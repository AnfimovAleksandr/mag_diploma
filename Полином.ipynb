{
 "cells": [
  {
   "cell_type": "markdown",
   "id": "e3f4e4de",
   "metadata": {},
   "source": [
    "# Данные"
   ]
  },
  {
   "cell_type": "code",
   "execution_count": 1,
   "id": "f66f69e9",
   "metadata": {},
   "outputs": [],
   "source": [
    "import numpy as np\n",
    "import pandas as pd\n",
    "import matplotlib.pyplot as plt\n",
    "import seaborn as sns\n",
    "import statsmodels.api as sm \n",
    "import itertools\n",
    "from scipy import linalg\n",
    "import matplotlib as mpl\n",
    "from sklearn import mixture\n",
    "from scipy.stats import norm, multivariate_normal, gaussian_kde, dirichlet, wishart, t\n",
    "from sklearn.metrics import r2_score\n",
    "from scipy.integrate import quad, nquad\n",
    "from scipy.special import gammaln, psi, digamma, gamma\n",
    "from scipy.linalg import det, inv\n",
    "import pints\n",
    "from scipy.special import loggamma\n",
    "import time\n",
    "import pints.plot\n",
    "from scipy.optimize import minimize\n",
    "from sklearn.model_selection import train_test_split\n",
    "from scipy.integrate import quad, dblquad"
   ]
  },
  {
   "cell_type": "code",
   "execution_count": 2,
   "id": "d52dd31e",
   "metadata": {},
   "outputs": [
    {
     "data": {
      "text/plain": [
       "array([[-0.08408749],\n",
       "       [-0.07404701],\n",
       "       [-0.0712909 ],\n",
       "       ...,\n",
       "       [ 0.10664213],\n",
       "       [ 0.10718334],\n",
       "       [ 0.10994489]])"
      ]
     },
     "execution_count": 2,
     "metadata": {},
     "output_type": "execute_result"
    }
   ],
   "source": [
    "# data \n",
    "# = pd.read_excel('euro_dollar_without_crisis.xlsx')\n",
    "data = pd.read_excel('euro_dollar.xlsx')\n",
    "data = data.sort_values(by = ['curs_euro'])\n",
    "data.head()\n",
    "\n",
    "data = data[data['curs_euro'] > -0.14]\n",
    "\n",
    "list_of_euro = list(data['curs_euro'])\n",
    "list_of_dollar = list(data['curs_dollar'])\n",
    "n_samples = data['curs_euro'].size\n",
    "n_samples\n",
    "\n",
    "np_data_dollar = np.array(data['curs_dollar']).reshape(-1, 1)\n",
    "np_data_euro = np.array(data['curs_euro']).reshape(-1, 1)\n",
    "np_data_euro"
   ]
  },
  {
   "cell_type": "code",
   "execution_count": 3,
   "id": "e3018b6e",
   "metadata": {},
   "outputs": [],
   "source": [
    "X_train, X_test, y_train, y_test = train_test_split(\n",
    "    np_data_euro, \n",
    "    np_data_dollar, \n",
    "    test_size=0.2,  # Доля тестовой выборки (можно указать train_size)\n",
    "    random_state=42,  # Для воспроизводимости\n",
    ")\n",
    "\n",
    "XY_train = np.concatenate([X_train, y_train], axis = 1)\n",
    "XY_test = np.concatenate([X_test, y_test], axis = 1)\n",
    "\n",
    "n_samples_train = X_train.shape[0]\n",
    "n_samples_test = X_test.shape[0]"
   ]
  },
  {
   "cell_type": "markdown",
   "id": "53d7be3f",
   "metadata": {},
   "source": [
    "# Строим полином"
   ]
  },
  {
   "cell_type": "markdown",
   "id": "560a2201",
   "metadata": {},
   "source": [
    "## На обучающей выборке"
   ]
  },
  {
   "cell_type": "markdown",
   "id": "38794d91",
   "metadata": {},
   "source": [
    "### Исследование максимального R**2"
   ]
  },
  {
   "cell_type": "code",
   "execution_count": 4,
   "id": "afd0d46c",
   "metadata": {},
   "outputs": [],
   "source": [
    "X_train = X_train.flatten()\n",
    "X_test = X_test.flatten()\n",
    "y_train = y_train.flatten()\n",
    "y_test = y_test.flatten()"
   ]
  },
  {
   "cell_type": "code",
   "execution_count": 8,
   "id": "c900fe63",
   "metadata": {},
   "outputs": [
    {
     "name": "stderr",
     "output_type": "stream",
     "text": [
      "C:\\Users\\M A C H R E A T O R\\AppData\\Local\\Temp\\ipykernel_9924\\2937819498.py:4: RankWarning: Polyfit may be poorly conditioned\n",
      "  coeffs = np.polyfit(X_train, y_train, deg=d)\n",
      "C:\\Users\\M A C H R E A T O R\\AppData\\Local\\Temp\\ipykernel_9924\\2937819498.py:4: RankWarning: Polyfit may be poorly conditioned\n",
      "  coeffs = np.polyfit(X_train, y_train, deg=d)\n",
      "C:\\Users\\M A C H R E A T O R\\AppData\\Local\\Temp\\ipykernel_9924\\2937819498.py:4: RankWarning: Polyfit may be poorly conditioned\n",
      "  coeffs = np.polyfit(X_train, y_train, deg=d)\n",
      "C:\\Users\\M A C H R E A T O R\\AppData\\Local\\Temp\\ipykernel_9924\\2937819498.py:4: RankWarning: Polyfit may be poorly conditioned\n",
      "  coeffs = np.polyfit(X_train, y_train, deg=d)\n",
      "C:\\Users\\M A C H R E A T O R\\AppData\\Local\\Temp\\ipykernel_9924\\2937819498.py:4: RankWarning: Polyfit may be poorly conditioned\n",
      "  coeffs = np.polyfit(X_train, y_train, deg=d)\n",
      "C:\\Users\\M A C H R E A T O R\\AppData\\Local\\Temp\\ipykernel_9924\\2937819498.py:4: RankWarning: Polyfit may be poorly conditioned\n",
      "  coeffs = np.polyfit(X_train, y_train, deg=d)\n",
      "C:\\Users\\M A C H R E A T O R\\AppData\\Local\\Temp\\ipykernel_9924\\2937819498.py:4: RankWarning: Polyfit may be poorly conditioned\n",
      "  coeffs = np.polyfit(X_train, y_train, deg=d)\n",
      "C:\\Users\\M A C H R E A T O R\\AppData\\Local\\Temp\\ipykernel_9924\\2937819498.py:4: RankWarning: Polyfit may be poorly conditioned\n",
      "  coeffs = np.polyfit(X_train, y_train, deg=d)\n",
      "C:\\Users\\M A C H R E A T O R\\AppData\\Local\\Temp\\ipykernel_9924\\2937819498.py:4: RankWarning: Polyfit may be poorly conditioned\n",
      "  coeffs = np.polyfit(X_train, y_train, deg=d)\n",
      "C:\\Users\\M A C H R E A T O R\\AppData\\Local\\Temp\\ipykernel_9924\\2937819498.py:4: RankWarning: Polyfit may be poorly conditioned\n",
      "  coeffs = np.polyfit(X_train, y_train, deg=d)\n",
      "C:\\Users\\M A C H R E A T O R\\AppData\\Local\\Temp\\ipykernel_9924\\2937819498.py:4: RankWarning: Polyfit may be poorly conditioned\n",
      "  coeffs = np.polyfit(X_train, y_train, deg=d)\n",
      "C:\\Users\\M A C H R E A T O R\\AppData\\Local\\Temp\\ipykernel_9924\\2937819498.py:4: RankWarning: Polyfit may be poorly conditioned\n",
      "  coeffs = np.polyfit(X_train, y_train, deg=d)\n",
      "C:\\Users\\M A C H R E A T O R\\AppData\\Local\\Temp\\ipykernel_9924\\2937819498.py:4: RankWarning: Polyfit may be poorly conditioned\n",
      "  coeffs = np.polyfit(X_train, y_train, deg=d)\n",
      "C:\\Users\\M A C H R E A T O R\\AppData\\Local\\Temp\\ipykernel_9924\\2937819498.py:4: RankWarning: Polyfit may be poorly conditioned\n",
      "  coeffs = np.polyfit(X_train, y_train, deg=d)\n",
      "C:\\Users\\M A C H R E A T O R\\AppData\\Local\\Temp\\ipykernel_9924\\2937819498.py:4: RankWarning: Polyfit may be poorly conditioned\n",
      "  coeffs = np.polyfit(X_train, y_train, deg=d)\n",
      "C:\\Users\\M A C H R E A T O R\\AppData\\Local\\Temp\\ipykernel_9924\\2937819498.py:4: RankWarning: Polyfit may be poorly conditioned\n",
      "  coeffs = np.polyfit(X_train, y_train, deg=d)\n",
      "C:\\Users\\M A C H R E A T O R\\AppData\\Local\\Temp\\ipykernel_9924\\2937819498.py:4: RankWarning: Polyfit may be poorly conditioned\n",
      "  coeffs = np.polyfit(X_train, y_train, deg=d)\n",
      "C:\\Users\\M A C H R E A T O R\\AppData\\Local\\Temp\\ipykernel_9924\\2937819498.py:4: RankWarning: Polyfit may be poorly conditioned\n",
      "  coeffs = np.polyfit(X_train, y_train, deg=d)\n",
      "C:\\Users\\M A C H R E A T O R\\AppData\\Local\\Temp\\ipykernel_9924\\2937819498.py:4: RankWarning: Polyfit may be poorly conditioned\n",
      "  coeffs = np.polyfit(X_train, y_train, deg=d)\n",
      "C:\\Users\\M A C H R E A T O R\\AppData\\Local\\Temp\\ipykernel_9924\\2937819498.py:4: RankWarning: Polyfit may be poorly conditioned\n",
      "  coeffs = np.polyfit(X_train, y_train, deg=d)\n",
      "C:\\Users\\M A C H R E A T O R\\AppData\\Local\\Temp\\ipykernel_9924\\2937819498.py:4: RankWarning: Polyfit may be poorly conditioned\n",
      "  coeffs = np.polyfit(X_train, y_train, deg=d)\n",
      "C:\\Users\\M A C H R E A T O R\\AppData\\Local\\Temp\\ipykernel_9924\\2937819498.py:4: RankWarning: Polyfit may be poorly conditioned\n",
      "  coeffs = np.polyfit(X_train, y_train, deg=d)\n",
      "C:\\Users\\M A C H R E A T O R\\AppData\\Local\\Temp\\ipykernel_9924\\2937819498.py:4: RankWarning: Polyfit may be poorly conditioned\n",
      "  coeffs = np.polyfit(X_train, y_train, deg=d)\n",
      "C:\\Users\\M A C H R E A T O R\\AppData\\Local\\Temp\\ipykernel_9924\\2937819498.py:4: RankWarning: Polyfit may be poorly conditioned\n",
      "  coeffs = np.polyfit(X_train, y_train, deg=d)\n",
      "C:\\Users\\M A C H R E A T O R\\AppData\\Local\\Temp\\ipykernel_9924\\2937819498.py:4: RankWarning: Polyfit may be poorly conditioned\n",
      "  coeffs = np.polyfit(X_train, y_train, deg=d)\n",
      "C:\\Users\\M A C H R E A T O R\\AppData\\Local\\Temp\\ipykernel_9924\\2937819498.py:4: RankWarning: Polyfit may be poorly conditioned\n",
      "  coeffs = np.polyfit(X_train, y_train, deg=d)\n",
      "C:\\Users\\M A C H R E A T O R\\AppData\\Local\\Temp\\ipykernel_9924\\2937819498.py:4: RankWarning: Polyfit may be poorly conditioned\n",
      "  coeffs = np.polyfit(X_train, y_train, deg=d)\n",
      "C:\\Users\\M A C H R E A T O R\\AppData\\Local\\Temp\\ipykernel_9924\\2937819498.py:4: RankWarning: Polyfit may be poorly conditioned\n",
      "  coeffs = np.polyfit(X_train, y_train, deg=d)\n",
      "C:\\Users\\M A C H R E A T O R\\AppData\\Local\\Temp\\ipykernel_9924\\2937819498.py:4: RankWarning: Polyfit may be poorly conditioned\n",
      "  coeffs = np.polyfit(X_train, y_train, deg=d)\n",
      "C:\\Users\\M A C H R E A T O R\\AppData\\Local\\Temp\\ipykernel_9924\\2937819498.py:4: RankWarning: Polyfit may be poorly conditioned\n",
      "  coeffs = np.polyfit(X_train, y_train, deg=d)\n",
      "C:\\Users\\M A C H R E A T O R\\AppData\\Local\\Temp\\ipykernel_9924\\2937819498.py:4: RankWarning: Polyfit may be poorly conditioned\n",
      "  coeffs = np.polyfit(X_train, y_train, deg=d)\n",
      "C:\\Users\\M A C H R E A T O R\\AppData\\Local\\Temp\\ipykernel_9924\\2937819498.py:4: RankWarning: Polyfit may be poorly conditioned\n",
      "  coeffs = np.polyfit(X_train, y_train, deg=d)\n",
      "C:\\Users\\M A C H R E A T O R\\AppData\\Local\\Temp\\ipykernel_9924\\2937819498.py:4: RankWarning: Polyfit may be poorly conditioned\n",
      "  coeffs = np.polyfit(X_train, y_train, deg=d)\n",
      "C:\\Users\\M A C H R E A T O R\\AppData\\Local\\Temp\\ipykernel_9924\\2937819498.py:4: RankWarning: Polyfit may be poorly conditioned\n",
      "  coeffs = np.polyfit(X_train, y_train, deg=d)\n",
      "C:\\Users\\M A C H R E A T O R\\AppData\\Local\\Temp\\ipykernel_9924\\2937819498.py:4: RankWarning: Polyfit may be poorly conditioned\n",
      "  coeffs = np.polyfit(X_train, y_train, deg=d)\n",
      "C:\\Users\\M A C H R E A T O R\\AppData\\Local\\Temp\\ipykernel_9924\\2937819498.py:4: RankWarning: Polyfit may be poorly conditioned\n",
      "  coeffs = np.polyfit(X_train, y_train, deg=d)\n",
      "C:\\Users\\M A C H R E A T O R\\AppData\\Local\\Temp\\ipykernel_9924\\2937819498.py:4: RankWarning: Polyfit may be poorly conditioned\n",
      "  coeffs = np.polyfit(X_train, y_train, deg=d)\n",
      "C:\\Users\\M A C H R E A T O R\\AppData\\Local\\Temp\\ipykernel_9924\\2937819498.py:4: RankWarning: Polyfit may be poorly conditioned\n",
      "  coeffs = np.polyfit(X_train, y_train, deg=d)\n",
      "C:\\Users\\M A C H R E A T O R\\AppData\\Local\\Temp\\ipykernel_9924\\2937819498.py:4: RankWarning: Polyfit may be poorly conditioned\n",
      "  coeffs = np.polyfit(X_train, y_train, deg=d)\n",
      "C:\\Users\\M A C H R E A T O R\\AppData\\Local\\Temp\\ipykernel_9924\\2937819498.py:4: RankWarning: Polyfit may be poorly conditioned\n",
      "  coeffs = np.polyfit(X_train, y_train, deg=d)\n",
      "C:\\Users\\M A C H R E A T O R\\AppData\\Local\\Temp\\ipykernel_9924\\2937819498.py:4: RankWarning: Polyfit may be poorly conditioned\n",
      "  coeffs = np.polyfit(X_train, y_train, deg=d)\n",
      "C:\\Users\\M A C H R E A T O R\\AppData\\Local\\Temp\\ipykernel_9924\\2937819498.py:4: RankWarning: Polyfit may be poorly conditioned\n",
      "  coeffs = np.polyfit(X_train, y_train, deg=d)\n",
      "C:\\Users\\M A C H R E A T O R\\AppData\\Local\\Temp\\ipykernel_9924\\2937819498.py:4: RankWarning: Polyfit may be poorly conditioned\n",
      "  coeffs = np.polyfit(X_train, y_train, deg=d)\n",
      "C:\\Users\\M A C H R E A T O R\\AppData\\Local\\Temp\\ipykernel_9924\\2937819498.py:4: RankWarning: Polyfit may be poorly conditioned\n",
      "  coeffs = np.polyfit(X_train, y_train, deg=d)\n",
      "C:\\Users\\M A C H R E A T O R\\AppData\\Local\\Temp\\ipykernel_9924\\2937819498.py:4: RankWarning: Polyfit may be poorly conditioned\n",
      "  coeffs = np.polyfit(X_train, y_train, deg=d)\n",
      "C:\\Users\\M A C H R E A T O R\\AppData\\Local\\Temp\\ipykernel_9924\\2937819498.py:4: RankWarning: Polyfit may be poorly conditioned\n",
      "  coeffs = np.polyfit(X_train, y_train, deg=d)\n",
      "C:\\Users\\M A C H R E A T O R\\AppData\\Local\\Temp\\ipykernel_9924\\2937819498.py:4: RankWarning: Polyfit may be poorly conditioned\n",
      "  coeffs = np.polyfit(X_train, y_train, deg=d)\n",
      "C:\\Users\\M A C H R E A T O R\\AppData\\Local\\Temp\\ipykernel_9924\\2937819498.py:4: RankWarning: Polyfit may be poorly conditioned\n",
      "  coeffs = np.polyfit(X_train, y_train, deg=d)\n",
      "C:\\Users\\M A C H R E A T O R\\AppData\\Local\\Temp\\ipykernel_9924\\2937819498.py:4: RankWarning: Polyfit may be poorly conditioned\n",
      "  coeffs = np.polyfit(X_train, y_train, deg=d)\n",
      "C:\\Users\\M A C H R E A T O R\\AppData\\Local\\Temp\\ipykernel_9924\\2937819498.py:4: RankWarning: Polyfit may be poorly conditioned\n",
      "  coeffs = np.polyfit(X_train, y_train, deg=d)\n",
      "C:\\Users\\M A C H R E A T O R\\AppData\\Local\\Temp\\ipykernel_9924\\2937819498.py:4: RankWarning: Polyfit may be poorly conditioned\n",
      "  coeffs = np.polyfit(X_train, y_train, deg=d)\n",
      "C:\\Users\\M A C H R E A T O R\\AppData\\Local\\Temp\\ipykernel_9924\\2937819498.py:4: RankWarning: Polyfit may be poorly conditioned\n",
      "  coeffs = np.polyfit(X_train, y_train, deg=d)\n",
      "C:\\Users\\M A C H R E A T O R\\AppData\\Local\\Temp\\ipykernel_9924\\2937819498.py:4: RankWarning: Polyfit may be poorly conditioned\n",
      "  coeffs = np.polyfit(X_train, y_train, deg=d)\n",
      "C:\\Users\\M A C H R E A T O R\\AppData\\Local\\Temp\\ipykernel_9924\\2937819498.py:4: RankWarning: Polyfit may be poorly conditioned\n",
      "  coeffs = np.polyfit(X_train, y_train, deg=d)\n",
      "C:\\Users\\M A C H R E A T O R\\AppData\\Local\\Temp\\ipykernel_9924\\2937819498.py:4: RankWarning: Polyfit may be poorly conditioned\n",
      "  coeffs = np.polyfit(X_train, y_train, deg=d)\n",
      "C:\\Users\\M A C H R E A T O R\\AppData\\Local\\Temp\\ipykernel_9924\\2937819498.py:4: RankWarning: Polyfit may be poorly conditioned\n",
      "  coeffs = np.polyfit(X_train, y_train, deg=d)\n",
      "C:\\Users\\M A C H R E A T O R\\AppData\\Local\\Temp\\ipykernel_9924\\2937819498.py:4: RankWarning: Polyfit may be poorly conditioned\n",
      "  coeffs = np.polyfit(X_train, y_train, deg=d)\n",
      "C:\\Users\\M A C H R E A T O R\\AppData\\Local\\Temp\\ipykernel_9924\\2937819498.py:4: RankWarning: Polyfit may be poorly conditioned\n",
      "  coeffs = np.polyfit(X_train, y_train, deg=d)\n",
      "C:\\Users\\M A C H R E A T O R\\AppData\\Local\\Temp\\ipykernel_9924\\2937819498.py:4: RankWarning: Polyfit may be poorly conditioned\n",
      "  coeffs = np.polyfit(X_train, y_train, deg=d)\n",
      "C:\\Users\\M A C H R E A T O R\\AppData\\Local\\Temp\\ipykernel_9924\\2937819498.py:4: RankWarning: Polyfit may be poorly conditioned\n",
      "  coeffs = np.polyfit(X_train, y_train, deg=d)\n",
      "C:\\Users\\M A C H R E A T O R\\AppData\\Local\\Temp\\ipykernel_9924\\2937819498.py:4: RankWarning: Polyfit may be poorly conditioned\n",
      "  coeffs = np.polyfit(X_train, y_train, deg=d)\n",
      "C:\\Users\\M A C H R E A T O R\\AppData\\Local\\Temp\\ipykernel_9924\\2937819498.py:4: RankWarning: Polyfit may be poorly conditioned\n",
      "  coeffs = np.polyfit(X_train, y_train, deg=d)\n",
      "C:\\Users\\M A C H R E A T O R\\AppData\\Local\\Temp\\ipykernel_9924\\2937819498.py:4: RankWarning: Polyfit may be poorly conditioned\n",
      "  coeffs = np.polyfit(X_train, y_train, deg=d)\n",
      "C:\\Users\\M A C H R E A T O R\\AppData\\Local\\Temp\\ipykernel_9924\\2937819498.py:4: RankWarning: Polyfit may be poorly conditioned\n",
      "  coeffs = np.polyfit(X_train, y_train, deg=d)\n",
      "C:\\Users\\M A C H R E A T O R\\AppData\\Local\\Temp\\ipykernel_9924\\2937819498.py:4: RankWarning: Polyfit may be poorly conditioned\n",
      "  coeffs = np.polyfit(X_train, y_train, deg=d)\n",
      "C:\\Users\\M A C H R E A T O R\\AppData\\Local\\Temp\\ipykernel_9924\\2937819498.py:4: RankWarning: Polyfit may be poorly conditioned\n",
      "  coeffs = np.polyfit(X_train, y_train, deg=d)\n",
      "C:\\Users\\M A C H R E A T O R\\AppData\\Local\\Temp\\ipykernel_9924\\2937819498.py:4: RankWarning: Polyfit may be poorly conditioned\n",
      "  coeffs = np.polyfit(X_train, y_train, deg=d)\n",
      "C:\\Users\\M A C H R E A T O R\\AppData\\Local\\Temp\\ipykernel_9924\\2937819498.py:4: RankWarning: Polyfit may be poorly conditioned\n",
      "  coeffs = np.polyfit(X_train, y_train, deg=d)\n",
      "C:\\Users\\M A C H R E A T O R\\AppData\\Local\\Temp\\ipykernel_9924\\2937819498.py:4: RankWarning: Polyfit may be poorly conditioned\n",
      "  coeffs = np.polyfit(X_train, y_train, deg=d)\n",
      "C:\\Users\\M A C H R E A T O R\\AppData\\Local\\Temp\\ipykernel_9924\\2937819498.py:4: RankWarning: Polyfit may be poorly conditioned\n",
      "  coeffs = np.polyfit(X_train, y_train, deg=d)\n",
      "C:\\Users\\M A C H R E A T O R\\AppData\\Local\\Temp\\ipykernel_9924\\2937819498.py:4: RankWarning: Polyfit may be poorly conditioned\n",
      "  coeffs = np.polyfit(X_train, y_train, deg=d)\n"
     ]
    },
    {
     "data": {
      "text/plain": [
       "Text(0, 0.5, 'R²')"
      ]
     },
     "execution_count": 8,
     "metadata": {},
     "output_type": "execute_result"
    },
    {
     "data": {
      "image/png": "[encoded data removed]",
      "text/plain": [
       "<Figure size 640x480 with 1 Axes>"
      ]
     },
     "metadata": {},
     "output_type": "display_data"
    }
   ],
   "source": [
    "degrees = range(1, 100)\n",
    "r2_values = []\n",
    "for d in degrees:\n",
    "    coeffs = np.polyfit(X_train, y_train, deg=d)\n",
    "    y_pred = np.polyval(coeffs, X_train)\n",
    "    r2_values.append(r2_score(y_train, y_pred))\n",
    "\n",
    "plt.plot(degrees, r2_values)\n",
    "plt.xlabel(\"Степень полинома\")\n",
    "plt.ylabel(\"R²\")"
   ]
  },
  {
   "cell_type": "markdown",
   "id": "5ecaf026",
   "metadata": {},
   "source": [
    "### Визуальное представление полинома 100 степени"
   ]
  },
  {
   "cell_type": "code",
   "execution_count": 5,
   "id": "fcd16405",
   "metadata": {},
   "outputs": [
    {
     "name": "stderr",
     "output_type": "stream",
     "text": [
      "c:\\Users\\Dima\\AppData\\Local\\Programs\\Python\\Python311\\Lib\\site-packages\\IPython\\core\\interactiveshell.py:3442: RankWarning: Polyfit may be poorly conditioned\n",
      "  exec(code_obj, self.user_global_ns, self.user_ns)\n"
     ]
    }
   ],
   "source": [
    "# Интерполяционный полином максимальной степени (n-1 для n точек)\n",
    "degree = 100\n",
    "coefficients = np.polyfit(X_train, y_train, degree)\n",
    "\n",
    "# Создание полиномиальной функции\n",
    "poly = np.poly1d(coefficients)\n",
    "res = poly(X_train)"
   ]
  },
  {
   "cell_type": "code",
   "execution_count": 6,
   "id": "993cd62f",
   "metadata": {},
   "outputs": [],
   "source": [
    "X_reshaped = X_train.reshape(1, -1)[0]\n",
    "sorted_indices = np.argsort(X_reshaped)  # Получаем индексы для сортировки\n",
    "X_sorted = X_reshaped[sorted_indices]\n",
    "res_sorted = res[sorted_indices]"
   ]
  },
  {
   "cell_type": "code",
   "execution_count": 7,
   "id": "b6267f1f",
   "metadata": {},
   "outputs": [
    {
     "data": {
      "image/png": "[encoded data removed]",
      "text/plain": [
       "<Figure size 640x480 with 1 Axes>"
      ]
     },
     "metadata": {},
     "output_type": "display_data"
    }
   ],
   "source": [
    "plt.xlabel('Euro')\n",
    "plt.ylabel('Dollar')\n",
    "plt.plot(X_train, y_train, 'ro', markersize=4)\n",
    "plt.plot(X_sorted, res_sorted)\n",
    "plt.legend(['Наблюдения', 'Непараметричеки сглаженный'])\n",
    "plt.show()"
   ]
  },
  {
   "cell_type": "markdown",
   "id": "cccf6496",
   "metadata": {},
   "source": [
    "Проверим ковариацию"
   ]
  },
  {
   "cell_type": "code",
   "execution_count": 9,
   "id": "70567c70",
   "metadata": {},
   "outputs": [
    {
     "name": "stderr",
     "output_type": "stream",
     "text": [
      "C:\\Users\\M A C H R E A T O R\\AppData\\Local\\Temp\\ipykernel_9924\\359576904.py:1: RankWarning: Polyfit may be poorly conditioned\n",
      "  coeffs = np.polyfit(X_train, y_train, deg=100)\n"
     ]
    }
   ],
   "source": [
    "coeffs = np.polyfit(X_train, y_train, deg=100)\n",
    "y_pred = np.polyval(coeffs, X_train)"
   ]
  },
  {
   "cell_type": "code",
   "execution_count": 11,
   "id": "a7105422",
   "metadata": {},
   "outputs": [
    {
     "data": {
      "text/plain": [
       "np.float64(-9.55726901130799e-08)"
      ]
     },
     "execution_count": 11,
     "metadata": {},
     "output_type": "execute_result"
    }
   ],
   "source": [
    "var_Y = y_train.var(ddof= 1)\n",
    "residiuals = y_train - y_pred\n",
    "covar = np.cov(y_pred.flatten(), residiuals.flatten())[0][1]\n",
    "cov_part = 2 * covar / var_Y\n",
    "cov_part"
   ]
  },
  {
   "cell_type": "code",
   "execution_count": 8,
   "id": "51c19269",
   "metadata": {},
   "outputs": [
    {
     "name": "stderr",
     "output_type": "stream",
     "text": [
      "c:\\Users\\Dima\\AppData\\Local\\Programs\\Python\\Python311\\Lib\\site-packages\\IPython\\core\\interactiveshell.py:3442: RankWarning: Polyfit may be poorly conditioned\n",
      "  exec(code_obj, self.user_global_ns, self.user_ns)\n"
     ]
    },
    {
     "data": {
      "text/plain": [
       "0.7041198176170209"
      ]
     },
     "execution_count": 8,
     "metadata": {},
     "output_type": "execute_result"
    }
   ],
   "source": [
    "coeffs = np.polyfit(X_train, y_train, deg=100)\n",
    "y_pred = np.polyval(coeffs, X_train)\n",
    "r2_score(y_train, y_pred)\n"
   ]
  }
 ],
 "metadata": {
  "kernelspec": {
   "display_name": "Python 3",
   "language": "python",
   "name": "python3"
  },
  "language_info": {
   "codemirror_mode": {
    "name": "ipython",
    "version": 3
   },
   "file_extension": ".py",
   "mimetype": "text/x-python",
   "name": "python",
   "nbconvert_exporter": "python",
   "pygments_lexer": "ipython3",
   "version": "3.11.1"
  }
 },
 "nbformat": 4,
 "nbformat_minor": 5
}
