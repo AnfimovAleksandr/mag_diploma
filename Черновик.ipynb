{
 "cells": [
  {
   "cell_type": "code",
   "execution_count": 47,
   "metadata": {},
   "outputs": [],
   "source": [
    "from collections import defaultdict\n",
    "class Solution:\n",
    "    def minWindow(self, s: str, t: str) -> str:\n",
    "        m = len(s)\n",
    "        n = len(t)\n",
    "        letters = defaultdict(int)\n",
    "        for i in range(n):\n",
    "            letters[t[i]] += 1\n",
    "        min_len = 100001\n",
    "        l = r = 0\n",
    "        answer = (0, 0)\n",
    "        cur_letters = defaultdict(int)\n",
    "        num_letters = 0\n",
    "        for r in range(m):\n",
    "            # letters[s[l]]\n",
    "            # print('start', s[l: r + 1], num_letters, cur_letters[s[l]], letters[s[l]])\n",
    "            if s[r] in letters:\n",
    "                cur_letters[s[r]] += 1\n",
    "                if cur_letters[s[r]] <= letters[s[r]]:\n",
    "                    num_letters += 1\n",
    "            if num_letters == n :\n",
    "                while num_letters == n:\n",
    "                    if s[l] in letters:\n",
    "                        cur_letters[s[l]] -= 1\n",
    "                        if cur_letters[s[l]] < letters[s[l]]:\n",
    "                            num_letters -= 1\n",
    "                    l += 1\n",
    "                min_len = r - l + 2\n",
    "                answer = (l - 1, r + 1)\n",
    "            while l < r:\n",
    "                if s[l] in letters:\n",
    "                    if cur_letters[s[l]] > letters[s[l]]:\n",
    "                        cur_letters[s[l]] -= 1\n",
    "                    else:\n",
    "                        break\n",
    "                l += 1\n",
    "            # if l < r:\n",
    "            #     print('end', s[l: r + 1], num_letters, cur_letters[s[l]], letters[s[l]])\n",
    "        return s[answer[0]: answer[1]]"
   ]
  },
  {
   "cell_type": "code",
   "execution_count": 48,
   "metadata": {},
   "outputs": [
    {
     "data": {
      "text/plain": [
       "'b'"
      ]
     },
     "execution_count": 48,
     "metadata": {},
     "output_type": "execute_result"
    }
   ],
   "source": [
    "a = Solution()\n",
    "a.minWindow('ab', 'b')"
   ]
  },
  {
   "cell_type": "code",
   "execution_count": null,
   "metadata": {},
   "outputs": [],
   "source": []
  }
 ],
 "metadata": {
  "kernelspec": {
   "display_name": "Python 3",
   "language": "python",
   "name": "python3"
  },
  "language_info": {
   "codemirror_mode": {
    "name": "ipython",
    "version": 3
   },
   "file_extension": ".py",
   "mimetype": "text/x-python",
   "name": "python",
   "nbconvert_exporter": "python",
   "pygments_lexer": "ipython3",
   "version": "3.13.2"
  }
 },
 "nbformat": 4,
 "nbformat_minor": 2
}
